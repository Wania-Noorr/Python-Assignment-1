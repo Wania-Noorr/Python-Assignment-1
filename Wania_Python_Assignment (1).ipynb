{
  "nbformat": 4,
  "nbformat_minor": 0,
  "metadata": {
    "colab": {
      "provenance": [],
      "gpuType": "T4"
    },
    "kernelspec": {
      "name": "python3",
      "display_name": "Python 3"
    },
    "language_info": {
      "name": "python"
    },
    "accelerator": "GPU"
  },
  "cells": [
    {
      "cell_type": "markdown",
      "source": [
        "##**Task** **1**"
      ],
      "metadata": {
        "id": "MqgLKwe517Ii"
      }
    },
    {
      "cell_type": "code",
      "execution_count": null,
      "metadata": {
        "colab": {
          "base_uri": "https://localhost:8080/"
        },
        "id": "-nK0fR1H1zXX",
        "outputId": "92b5efa2-68a5-4e94-b707-b9e8d435f006"
      },
      "outputs": [
        {
          "output_type": "stream",
          "name": "stdout",
          "text": [
            "20\n"
          ]
        },
        {
          "output_type": "execute_result",
          "data": {
            "text/plain": [
              "int"
            ]
          },
          "metadata": {},
          "execution_count": 10
        }
      ],
      "source": [
        "# A)\n",
        "age = 20\n",
        "print(age)\n",
        "type (age)"
      ]
    },
    {
      "cell_type": "code",
      "source": [
        "name = \"Wania\"\n",
        "print(name)\n",
        "type(name)"
      ],
      "metadata": {
        "colab": {
          "base_uri": "https://localhost:8080/"
        },
        "id": "_-3AyI-E2Uj4",
        "outputId": "20851ce2-13f4-4d9a-a6be-0c19d70091ee"
      },
      "execution_count": null,
      "outputs": [
        {
          "output_type": "stream",
          "name": "stdout",
          "text": [
            "Wania\n"
          ]
        },
        {
          "output_type": "execute_result",
          "data": {
            "text/plain": [
              "str"
            ]
          },
          "metadata": {},
          "execution_count": 11
        }
      ]
    },
    {
      "cell_type": "code",
      "source": [
        "bool(\"student\") == True\n",
        "print(bool(\"student\"))"
      ],
      "metadata": {
        "colab": {
          "base_uri": "https://localhost:8080/"
        },
        "id": "L-zACU-B2dRV",
        "outputId": "8958b0d9-bbfe-4b03-83f0-968c08f8f562"
      },
      "execution_count": null,
      "outputs": [
        {
          "output_type": "stream",
          "name": "stdout",
          "text": [
            "True\n"
          ]
        }
      ]
    },
    {
      "cell_type": "code",
      "source": [
        "# B)\n",
        "age + 25"
      ],
      "metadata": {
        "colab": {
          "base_uri": "https://localhost:8080/"
        },
        "id": "WCpsbYnN5Sve",
        "outputId": "c7fbf8bb-88e8-4df3-c5fb-fa8b5fe6b41d"
      },
      "execution_count": null,
      "outputs": [
        {
          "output_type": "execute_result",
          "data": {
            "text/plain": [
              "45"
            ]
          },
          "metadata": {},
          "execution_count": 14
        }
      ]
    },
    {
      "cell_type": "code",
      "source": [
        "last_name = \"Smith\"\n",
        "full_name = name + \" \" + last_name\n",
        "print(full_name)"
      ],
      "metadata": {
        "colab": {
          "base_uri": "https://localhost:8080/"
        },
        "id": "ah5BC4jQ5odF",
        "outputId": "c8141d86-27ad-421d-9c27-2756318f94e3"
      },
      "execution_count": null,
      "outputs": [
        {
          "output_type": "stream",
          "name": "stdout",
          "text": [
            "Wania Smith\n"
          ]
        }
      ]
    },
    {
      "cell_type": "code",
      "source": [
        "student= not bool(\"student\")\n",
        "print(student)\n"
      ],
      "metadata": {
        "colab": {
          "base_uri": "https://localhost:8080/"
        },
        "id": "7zNdUNOb7QB_",
        "outputId": "0e0bad1a-dcb1-429a-d3cd-d9c26072abe8"
      },
      "execution_count": null,
      "outputs": [
        {
          "output_type": "stream",
          "name": "stdout",
          "text": [
            "False\n"
          ]
        }
      ]
    },
    {
      "cell_type": "markdown",
      "source": [
        "## Task 2"
      ],
      "metadata": {
        "id": "dqRaBwjq7-aw"
      }
    },
    {
      "cell_type": "code",
      "source": [
        "# A)\n",
        "width = \"5.5\"\n",
        "height = \"3.25\"\n",
        "type(width)\n",
        "type(height)\n",
        "\n",
        "# converting str to float\n",
        "width = float(width)\n",
        "height = float(height)\n",
        "\n",
        "area = width * height\n",
        "print(area)\n"
      ],
      "metadata": {
        "colab": {
          "base_uri": "https://localhost:8080/"
        },
        "id": "dqUItEb58XDg",
        "outputId": "2fa23944-2a73-437d-da5f-2e1dbe7b44c9"
      },
      "execution_count": null,
      "outputs": [
        {
          "output_type": "stream",
          "name": "stdout",
          "text": [
            "17.875\n"
          ]
        }
      ]
    },
    {
      "cell_type": "code",
      "source": [
        "# B)\n",
        "float(input (\"Enter the temperature in Celsius: \"))\n",
        "Fahrenheit = (Celsius * 9/5) + 32\n",
        "print(Fahrenheit)\n"
      ],
      "metadata": {
        "id": "2zF6xFdTh9PU"
      },
      "execution_count": null,
      "outputs": []
    },
    {
      "cell_type": "code",
      "source": [
        "# C) ##couldn't understand this\n",
        "float(input (\"Radius of circle: \"))\n",
        "Area= (pi * radius**2 , where π = 3.14159)\n",
        "print(area)"
      ],
      "metadata": {
        "id": "KjZ9U9Psh9k2"
      },
      "execution_count": null,
      "outputs": []
    },
    {
      "cell_type": "markdown",
      "source": [
        "## Task 3"
      ],
      "metadata": {
        "id": "ie6SYKkeCkai"
      }
    },
    {
      "cell_type": "code",
      "source": [
        "# A)\n",
        "fruits = [\"apple\", \"banana\", \"cherry\", \"date\", \"strawberry\", \"fig\", \"grape\"]\n",
        "print(fruits)"
      ],
      "metadata": {
        "colab": {
          "base_uri": "https://localhost:8080/"
        },
        "id": "dZYk_Z_mCmnm",
        "outputId": "f65c93b9-db88-4cbe-99c5-1ef4a384c989"
      },
      "execution_count": null,
      "outputs": [
        {
          "output_type": "stream",
          "name": "stdout",
          "text": [
            "['apple', 'banana', 'cherry', 'date', 'strawberry', 'fig', 'grape']\n"
          ]
        }
      ]
    },
    {
      "cell_type": "code",
      "source": [
        "# 1\n",
        "fruits.pop(0)"
      ],
      "metadata": {
        "id": "Fh4iAthmFhNA",
        "colab": {
          "base_uri": "https://localhost:8080/",
          "height": 35
        },
        "outputId": "af648094-e974-4c2f-9a0d-2a2935f8808f"
      },
      "execution_count": null,
      "outputs": [
        {
          "output_type": "execute_result",
          "data": {
            "text/plain": [
              "'apple'"
            ],
            "application/vnd.google.colaboratory.intrinsic+json": {
              "type": "string"
            }
          },
          "metadata": {},
          "execution_count": 16
        }
      ]
    },
    {
      "cell_type": "code",
      "source": [
        "# 1\n",
        "fruits.pop(5)"
      ],
      "metadata": {
        "colab": {
          "base_uri": "https://localhost:8080/",
          "height": 35
        },
        "id": "LcI-0IA2O_Xm",
        "outputId": "96a30234-0d0f-46b0-9b88-2d516b4fc6fe"
      },
      "execution_count": null,
      "outputs": [
        {
          "output_type": "execute_result",
          "data": {
            "text/plain": [
              "'grape'"
            ],
            "application/vnd.google.colaboratory.intrinsic+json": {
              "type": "string"
            }
          },
          "metadata": {},
          "execution_count": 17
        }
      ]
    },
    {
      "cell_type": "code",
      "source": [
        "# 1\n",
        "print(fruits)"
      ],
      "metadata": {
        "colab": {
          "base_uri": "https://localhost:8080/"
        },
        "id": "_Y4xhiXjPHhq",
        "outputId": "c1381da3-943f-4ca8-e4a0-22bdec6067d6"
      },
      "execution_count": null,
      "outputs": [
        {
          "output_type": "stream",
          "name": "stdout",
          "text": [
            "['banana', 'cherry', 'date', 'strawberry', 'fig']\n"
          ]
        }
      ]
    },
    {
      "cell_type": "code",
      "source": [
        "# 2\n",
        "fruits[2:5] = [\"kiwi\", \"lemon\", \"mango\"]\n",
        "print(fruits)"
      ],
      "metadata": {
        "id": "7Omhf-QaFzeB",
        "colab": {
          "base_uri": "https://localhost:8080/"
        },
        "outputId": "1511dcea-45b1-4fdb-c044-0162933046af"
      },
      "execution_count": null,
      "outputs": [
        {
          "output_type": "stream",
          "name": "stdout",
          "text": [
            "['banana', 'cherry', 'kiwi', 'lemon', 'mango']\n"
          ]
        }
      ]
    },
    {
      "cell_type": "code",
      "source": [
        "# 3\n",
        "len(fruits)\n"
      ],
      "metadata": {
        "id": "fIPxZuM0HBnS",
        "colab": {
          "base_uri": "https://localhost:8080/"
        },
        "outputId": "99a548fe-3703-4611-de86-3d0921485613"
      },
      "execution_count": null,
      "outputs": [
        {
          "output_type": "execute_result",
          "data": {
            "text/plain": [
              "5"
            ]
          },
          "metadata": {},
          "execution_count": 20
        }
      ]
    },
    {
      "cell_type": "markdown",
      "source": [
        "## Task 4"
      ],
      "metadata": {
        "id": "BFZg5kNKKboT"
      }
    },
    {
      "cell_type": "code",
      "source": [
        "# A)\n",
        "Capitals = {\"USA\" : \"Washington D.C\", \"France\" : \"Paris\", \"Japan\" : \"Tokyo\"}\n",
        "print(Capitals)"
      ],
      "metadata": {
        "id": "5aET3GHGKZtR",
        "colab": {
          "base_uri": "https://localhost:8080/"
        },
        "outputId": "5f486cfc-5ad7-40b1-a245-0f6648d6a5b2"
      },
      "execution_count": null,
      "outputs": [
        {
          "output_type": "stream",
          "name": "stdout",
          "text": [
            "{'USA': 'Washington D.C', 'France': 'Paris', 'Japan': 'Tokyo'}\n"
          ]
        }
      ]
    },
    {
      "cell_type": "code",
      "source": [
        "# B)\n",
        "Capitals[\"Germany\"] = \"Berlin\"\n",
        "print(Capitals)"
      ],
      "metadata": {
        "id": "otrNeWZLP-z5",
        "colab": {
          "base_uri": "https://localhost:8080/"
        },
        "outputId": "fa8eba45-bc51-4cea-f434-9e682bdce91d"
      },
      "execution_count": null,
      "outputs": [
        {
          "output_type": "stream",
          "name": "stdout",
          "text": [
            "{'USA': 'Washington D.C', 'France': 'Paris', 'Japan': 'Tokyo', 'Germany': 'Berlin'}\n"
          ]
        }
      ]
    },
    {
      "cell_type": "code",
      "source": [
        "# c)\n",
        "if(\"France\" in Capitals):\n",
        " print (\"France is in the dictionary\")\n",
        "else:\n",
        "  print(\"France is not in the dictionary\")\n"
      ],
      "metadata": {
        "id": "IjZgCCX4QDdV",
        "colab": {
          "base_uri": "https://localhost:8080/"
        },
        "outputId": "d58152c2-770c-4675-9cfb-40fb946a0924"
      },
      "execution_count": null,
      "outputs": [
        {
          "output_type": "stream",
          "name": "stdout",
          "text": [
            "France is in the dictionary\n"
          ]
        }
      ]
    },
    {
      "cell_type": "markdown",
      "source": [
        "## Task 5\n"
      ],
      "metadata": {
        "id": "F38HtP7MQeR_"
      }
    },
    {
      "cell_type": "code",
      "source": [
        "# A)\n",
        "number = input(\"Answer to question 1:\")\n",
        "if number % 2 == 0:\n",
        "  print (\"The number is even\")\n",
        "else:\n",
        "  print (\"The number is odd\")"
      ],
      "metadata": {
        "id": "EIdknHMjTvcC"
      },
      "execution_count": null,
      "outputs": []
    },
    {
      "cell_type": "code",
      "source": [
        "# B)\n",
        "age = 25\n",
        "GPA = 3.3\n",
        "\n",
        "if age >= 18 and GPA >= 3.0:\n",
        "  print(\"Eligible for admission\")\n",
        "else:\n",
        "  print(\"Not eligible for admission\")"
      ],
      "metadata": {
        "colab": {
          "base_uri": "https://localhost:8080/"
        },
        "id": "AEQ1iETWeqWC",
        "outputId": "33e321ef-49cf-44fc-ec2e-a13b4937d17a"
      },
      "execution_count": null,
      "outputs": [
        {
          "output_type": "stream",
          "name": "stdout",
          "text": [
            "Eligible for admission\n"
          ]
        }
      ]
    },
    {
      "cell_type": "markdown",
      "source": [
        "## Task 6"
      ],
      "metadata": {
        "id": "Jjn8wEJeYbss"
      }
    },
    {
      "cell_type": "code",
      "source": [
        "# A)\n",
        "opinion_on_python= (\"Python programming is fun and powerful!\")"
      ],
      "metadata": {
        "id": "UwxpN2DIYaae"
      },
      "execution_count": null,
      "outputs": []
    },
    {
      "cell_type": "code",
      "source": [
        "# 1)\n",
        "len(opinion_on_python)"
      ],
      "metadata": {
        "id": "YS-JCtD6Zf60",
        "colab": {
          "base_uri": "https://localhost:8080/"
        },
        "outputId": "9fd5a6b0-8658-4033-cc7e-283438dd25a5"
      },
      "execution_count": null,
      "outputs": [
        {
          "output_type": "execute_result",
          "data": {
            "text/plain": [
              "39"
            ]
          },
          "metadata": {},
          "execution_count": 4
        }
      ]
    },
    {
      "cell_type": "code",
      "source": [
        "# 2)\n",
        "opinion_on_python.upper()"
      ],
      "metadata": {
        "id": "fGDfGbyDZiOz",
        "colab": {
          "base_uri": "https://localhost:8080/",
          "height": 35
        },
        "outputId": "e05e1e4a-7c37-4386-ff0a-1f767bac2c97"
      },
      "execution_count": null,
      "outputs": [
        {
          "output_type": "execute_result",
          "data": {
            "text/plain": [
              "'PYTHON PROGRAMMING IS FUN AND POWERFUL!'"
            ],
            "application/vnd.google.colaboratory.intrinsic+json": {
              "type": "string"
            }
          },
          "metadata": {},
          "execution_count": 5
        }
      ]
    },
    {
      "cell_type": "code",
      "source": [
        "# 3)\n",
        "opinion_on_python.replace(\"fun\", \"exciting\")"
      ],
      "metadata": {
        "id": "sa_pzIpXaE-L",
        "colab": {
          "base_uri": "https://localhost:8080/",
          "height": 35
        },
        "outputId": "8665a986-c18e-4f4c-cedf-a545bce917aa"
      },
      "execution_count": null,
      "outputs": [
        {
          "output_type": "execute_result",
          "data": {
            "text/plain": [
              "'Python programming is exciting and powerful!'"
            ],
            "application/vnd.google.colaboratory.intrinsic+json": {
              "type": "string"
            }
          },
          "metadata": {},
          "execution_count": 6
        }
      ]
    },
    {
      "cell_type": "code",
      "source": [
        "# 4)\n",
        "if \"Python\" in opinion_on_python:\n",
        "  print(\"Python is in the string\")\n",
        "else:\n",
        "  print(\"Python is not in the string\")"
      ],
      "metadata": {
        "id": "UTFtYG4BaGc9",
        "colab": {
          "base_uri": "https://localhost:8080/"
        },
        "outputId": "06690f62-dc68-48e9-99af-c9e91e107cd4"
      },
      "execution_count": null,
      "outputs": [
        {
          "output_type": "stream",
          "name": "stdout",
          "text": [
            "Python is in the string\n"
          ]
        }
      ]
    },
    {
      "cell_type": "code",
      "source": [
        "# 5)\n",
        "opinion_on_python = \" \".join(opinion_on_python.split()[:-1])\n",
        "print(opinion_on_python)"
      ],
      "metadata": {
        "id": "KB8-XryaaLMd",
        "colab": {
          "base_uri": "https://localhost:8080/"
        },
        "outputId": "f09137e1-bf36-4c0b-ddd7-e1eece09b50c"
      },
      "execution_count": null,
      "outputs": [
        {
          "output_type": "stream",
          "name": "stdout",
          "text": [
            "Python programming is fun and\n"
          ]
        }
      ]
    },
    {
      "cell_type": "code",
      "source": [
        "# 6)\n",
        "opinion_on_python = opinion_on_python[7:]\n",
        "print(opinion_on_python)"
      ],
      "metadata": {
        "colab": {
          "base_uri": "https://localhost:8080/"
        },
        "id": "gC_aH2bjgYTu",
        "outputId": "72b287d1-0e7c-4279-e517-5e1a527c617e"
      },
      "execution_count": null,
      "outputs": [
        {
          "output_type": "stream",
          "name": "stdout",
          "text": [
            "programming is fun and powerful!\n"
          ]
        }
      ]
    },
    {
      "cell_type": "code",
      "source": [
        "# B)\n",
        "# 1)\n",
        "email = (\"user@example.com\")\n",
        "\n",
        "username = email.split(\"@\")\n",
        "print(username)"
      ],
      "metadata": {
        "id": "3zuF9gdUbtgN",
        "colab": {
          "base_uri": "https://localhost:8080/"
        },
        "outputId": "67fbe098-f8ba-4017-b142-0beca629ddb0"
      },
      "execution_count": null,
      "outputs": [
        {
          "output_type": "stream",
          "name": "stdout",
          "text": [
            "['user', 'example.com']\n"
          ]
        }
      ]
    },
    {
      "cell_type": "code",
      "source": [
        "# 2)\n",
        "domain = email.split(\"@\")[1]\n",
        "print(domain)"
      ],
      "metadata": {
        "id": "shWvSe9tcxi5",
        "colab": {
          "base_uri": "https://localhost:8080/"
        },
        "outputId": "befdb6b6-fe63-4816-ef50-89e744bc950d"
      },
      "execution_count": null,
      "outputs": [
        {
          "output_type": "stream",
          "name": "stdout",
          "text": [
            "example.com\n"
          ]
        }
      ]
    },
    {
      "cell_type": "code",
      "source": [
        "# 3)\n",
        "if \"example\" in email:\n",
        "  print(\"The email contains the substring 'example'\")\n",
        "else:\n",
        "  print(\"The email does not contain the substring 'example'\")"
      ],
      "metadata": {
        "id": "BSG73CmHcxX7",
        "colab": {
          "base_uri": "https://localhost:8080/"
        },
        "outputId": "2f65cd67-f13d-48ed-a71f-368320d43411"
      },
      "execution_count": null,
      "outputs": [
        {
          "output_type": "stream",
          "name": "stdout",
          "text": [
            "The email contains the substring 'example'\n"
          ]
        }
      ]
    }
  ]
}